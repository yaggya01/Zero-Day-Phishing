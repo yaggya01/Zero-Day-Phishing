{
 "cells": [
  {
   "cell_type": "code",
   "execution_count": 1,
   "id": "0e94d935",
   "metadata": {},
   "outputs": [],
   "source": [
    "import pandas as pd\n",
    "import numpy as np\n",
    "import matplotlib.pyplot as plt\n",
    "from sklearn.model_selection import train_test_split\n",
    "from sklearn import preprocessing\n",
    "label_encoder = preprocessing.LabelEncoder()"
   ]
  },
  {
   "cell_type": "code",
   "execution_count": 2,
   "id": "f46f55a8",
   "metadata": {},
   "outputs": [],
   "source": [
    "data = pd.read_csv(\"urldata.csv\")"
   ]
  },
  {
   "cell_type": "code",
   "execution_count": 3,
   "id": "b22866f7",
   "metadata": {},
   "outputs": [],
   "source": [
    "data[\"Label\"].unique()\n",
    "for i in data.columns:\n",
    "    if(i== \"Domain\"):\n",
    "        data[i]= label_encoder.fit_transform(data[i])"
   ]
  },
  {
   "cell_type": "code",
   "execution_count": 4,
   "id": "0daf7bd1",
   "metadata": {},
   "outputs": [],
   "source": [
    "X_train , X_test , y_train , y_test = train_test_split(data[['Have_IP' , 'Have_At' , 'URL_Length' , \n",
    "                                                             'URL_Depth' ,'Redirection' , \n",
    "                                                             'https_Domain' , 'TinyURL' , 'Prefix/Suffix'\n",
    "                                                             , 'DNS_Record', 'Web_Traffic' , 'Domain_Age' , 'Domain_End' , 'iFrame' , 'Mouse_Over' , 'Right_Click' , \n",
    "                                                            'Web_Forwards']] , data['Label'] , train_size=0.2)"
   ]
  },
  {
   "cell_type": "code",
   "execution_count": 5,
   "id": "494b1298",
   "metadata": {},
   "outputs": [
    {
     "data": {
      "text/html": [
       "<div>\n",
       "<style scoped>\n",
       "    .dataframe tbody tr th:only-of-type {\n",
       "        vertical-align: middle;\n",
       "    }\n",
       "\n",
       "    .dataframe tbody tr th {\n",
       "        vertical-align: top;\n",
       "    }\n",
       "\n",
       "    .dataframe thead th {\n",
       "        text-align: right;\n",
       "    }\n",
       "</style>\n",
       "<table border=\"1\" class=\"dataframe\">\n",
       "  <thead>\n",
       "    <tr style=\"text-align: right;\">\n",
       "      <th></th>\n",
       "      <th>Have_IP</th>\n",
       "      <th>Have_At</th>\n",
       "      <th>URL_Length</th>\n",
       "      <th>URL_Depth</th>\n",
       "      <th>Redirection</th>\n",
       "      <th>https_Domain</th>\n",
       "      <th>TinyURL</th>\n",
       "      <th>Prefix/Suffix</th>\n",
       "      <th>DNS_Record</th>\n",
       "      <th>Web_Traffic</th>\n",
       "      <th>Domain_Age</th>\n",
       "      <th>Domain_End</th>\n",
       "      <th>iFrame</th>\n",
       "      <th>Mouse_Over</th>\n",
       "      <th>Right_Click</th>\n",
       "      <th>Web_Forwards</th>\n",
       "    </tr>\n",
       "  </thead>\n",
       "  <tbody>\n",
       "    <tr>\n",
       "      <th>3255</th>\n",
       "      <td>0</td>\n",
       "      <td>0</td>\n",
       "      <td>1</td>\n",
       "      <td>2</td>\n",
       "      <td>0</td>\n",
       "      <td>0</td>\n",
       "      <td>0</td>\n",
       "      <td>0</td>\n",
       "      <td>0</td>\n",
       "      <td>0</td>\n",
       "      <td>1</td>\n",
       "      <td>1</td>\n",
       "      <td>0</td>\n",
       "      <td>0</td>\n",
       "      <td>1</td>\n",
       "      <td>0</td>\n",
       "    </tr>\n",
       "    <tr>\n",
       "      <th>7118</th>\n",
       "      <td>0</td>\n",
       "      <td>0</td>\n",
       "      <td>1</td>\n",
       "      <td>5</td>\n",
       "      <td>0</td>\n",
       "      <td>0</td>\n",
       "      <td>0</td>\n",
       "      <td>0</td>\n",
       "      <td>0</td>\n",
       "      <td>0</td>\n",
       "      <td>1</td>\n",
       "      <td>1</td>\n",
       "      <td>0</td>\n",
       "      <td>0</td>\n",
       "      <td>1</td>\n",
       "      <td>0</td>\n",
       "    </tr>\n",
       "    <tr>\n",
       "      <th>1621</th>\n",
       "      <td>0</td>\n",
       "      <td>0</td>\n",
       "      <td>1</td>\n",
       "      <td>2</td>\n",
       "      <td>0</td>\n",
       "      <td>0</td>\n",
       "      <td>0</td>\n",
       "      <td>0</td>\n",
       "      <td>0</td>\n",
       "      <td>1</td>\n",
       "      <td>1</td>\n",
       "      <td>0</td>\n",
       "      <td>0</td>\n",
       "      <td>0</td>\n",
       "      <td>1</td>\n",
       "      <td>0</td>\n",
       "    </tr>\n",
       "    <tr>\n",
       "      <th>5835</th>\n",
       "      <td>0</td>\n",
       "      <td>0</td>\n",
       "      <td>1</td>\n",
       "      <td>1</td>\n",
       "      <td>0</td>\n",
       "      <td>0</td>\n",
       "      <td>0</td>\n",
       "      <td>0</td>\n",
       "      <td>0</td>\n",
       "      <td>1</td>\n",
       "      <td>1</td>\n",
       "      <td>1</td>\n",
       "      <td>0</td>\n",
       "      <td>0</td>\n",
       "      <td>1</td>\n",
       "      <td>0</td>\n",
       "    </tr>\n",
       "    <tr>\n",
       "      <th>2933</th>\n",
       "      <td>0</td>\n",
       "      <td>0</td>\n",
       "      <td>1</td>\n",
       "      <td>4</td>\n",
       "      <td>0</td>\n",
       "      <td>0</td>\n",
       "      <td>0</td>\n",
       "      <td>0</td>\n",
       "      <td>0</td>\n",
       "      <td>0</td>\n",
       "      <td>0</td>\n",
       "      <td>1</td>\n",
       "      <td>1</td>\n",
       "      <td>0</td>\n",
       "      <td>1</td>\n",
       "      <td>0</td>\n",
       "    </tr>\n",
       "    <tr>\n",
       "      <th>...</th>\n",
       "      <td>...</td>\n",
       "      <td>...</td>\n",
       "      <td>...</td>\n",
       "      <td>...</td>\n",
       "      <td>...</td>\n",
       "      <td>...</td>\n",
       "      <td>...</td>\n",
       "      <td>...</td>\n",
       "      <td>...</td>\n",
       "      <td>...</td>\n",
       "      <td>...</td>\n",
       "      <td>...</td>\n",
       "      <td>...</td>\n",
       "      <td>...</td>\n",
       "      <td>...</td>\n",
       "      <td>...</td>\n",
       "    </tr>\n",
       "    <tr>\n",
       "      <th>8880</th>\n",
       "      <td>0</td>\n",
       "      <td>0</td>\n",
       "      <td>1</td>\n",
       "      <td>7</td>\n",
       "      <td>0</td>\n",
       "      <td>0</td>\n",
       "      <td>0</td>\n",
       "      <td>0</td>\n",
       "      <td>0</td>\n",
       "      <td>1</td>\n",
       "      <td>1</td>\n",
       "      <td>1</td>\n",
       "      <td>0</td>\n",
       "      <td>0</td>\n",
       "      <td>1</td>\n",
       "      <td>0</td>\n",
       "    </tr>\n",
       "    <tr>\n",
       "      <th>8603</th>\n",
       "      <td>0</td>\n",
       "      <td>0</td>\n",
       "      <td>1</td>\n",
       "      <td>1</td>\n",
       "      <td>0</td>\n",
       "      <td>0</td>\n",
       "      <td>0</td>\n",
       "      <td>0</td>\n",
       "      <td>0</td>\n",
       "      <td>1</td>\n",
       "      <td>1</td>\n",
       "      <td>1</td>\n",
       "      <td>0</td>\n",
       "      <td>0</td>\n",
       "      <td>1</td>\n",
       "      <td>0</td>\n",
       "    </tr>\n",
       "    <tr>\n",
       "      <th>8638</th>\n",
       "      <td>0</td>\n",
       "      <td>0</td>\n",
       "      <td>1</td>\n",
       "      <td>0</td>\n",
       "      <td>0</td>\n",
       "      <td>0</td>\n",
       "      <td>0</td>\n",
       "      <td>0</td>\n",
       "      <td>0</td>\n",
       "      <td>0</td>\n",
       "      <td>0</td>\n",
       "      <td>1</td>\n",
       "      <td>1</td>\n",
       "      <td>1</td>\n",
       "      <td>1</td>\n",
       "      <td>1</td>\n",
       "    </tr>\n",
       "    <tr>\n",
       "      <th>7529</th>\n",
       "      <td>0</td>\n",
       "      <td>0</td>\n",
       "      <td>0</td>\n",
       "      <td>1</td>\n",
       "      <td>0</td>\n",
       "      <td>0</td>\n",
       "      <td>0</td>\n",
       "      <td>0</td>\n",
       "      <td>0</td>\n",
       "      <td>0</td>\n",
       "      <td>0</td>\n",
       "      <td>0</td>\n",
       "      <td>0</td>\n",
       "      <td>0</td>\n",
       "      <td>1</td>\n",
       "      <td>0</td>\n",
       "    </tr>\n",
       "    <tr>\n",
       "      <th>9893</th>\n",
       "      <td>0</td>\n",
       "      <td>0</td>\n",
       "      <td>0</td>\n",
       "      <td>1</td>\n",
       "      <td>0</td>\n",
       "      <td>0</td>\n",
       "      <td>0</td>\n",
       "      <td>1</td>\n",
       "      <td>0</td>\n",
       "      <td>1</td>\n",
       "      <td>0</td>\n",
       "      <td>1</td>\n",
       "      <td>1</td>\n",
       "      <td>1</td>\n",
       "      <td>1</td>\n",
       "      <td>1</td>\n",
       "    </tr>\n",
       "  </tbody>\n",
       "</table>\n",
       "<p>2000 rows × 16 columns</p>\n",
       "</div>"
      ],
      "text/plain": [
       "      Have_IP  Have_At  URL_Length  URL_Depth  Redirection  https_Domain  \\\n",
       "3255        0        0           1          2            0             0   \n",
       "7118        0        0           1          5            0             0   \n",
       "1621        0        0           1          2            0             0   \n",
       "5835        0        0           1          1            0             0   \n",
       "2933        0        0           1          4            0             0   \n",
       "...       ...      ...         ...        ...          ...           ...   \n",
       "8880        0        0           1          7            0             0   \n",
       "8603        0        0           1          1            0             0   \n",
       "8638        0        0           1          0            0             0   \n",
       "7529        0        0           0          1            0             0   \n",
       "9893        0        0           0          1            0             0   \n",
       "\n",
       "      TinyURL  Prefix/Suffix  DNS_Record  Web_Traffic  Domain_Age  Domain_End  \\\n",
       "3255        0              0           0            0           1           1   \n",
       "7118        0              0           0            0           1           1   \n",
       "1621        0              0           0            1           1           0   \n",
       "5835        0              0           0            1           1           1   \n",
       "2933        0              0           0            0           0           1   \n",
       "...       ...            ...         ...          ...         ...         ...   \n",
       "8880        0              0           0            1           1           1   \n",
       "8603        0              0           0            1           1           1   \n",
       "8638        0              0           0            0           0           1   \n",
       "7529        0              0           0            0           0           0   \n",
       "9893        0              1           0            1           0           1   \n",
       "\n",
       "      iFrame  Mouse_Over  Right_Click  Web_Forwards  \n",
       "3255       0           0            1             0  \n",
       "7118       0           0            1             0  \n",
       "1621       0           0            1             0  \n",
       "5835       0           0            1             0  \n",
       "2933       1           0            1             0  \n",
       "...      ...         ...          ...           ...  \n",
       "8880       0           0            1             0  \n",
       "8603       0           0            1             0  \n",
       "8638       1           1            1             1  \n",
       "7529       0           0            1             0  \n",
       "9893       1           1            1             1  \n",
       "\n",
       "[2000 rows x 16 columns]"
      ]
     },
     "execution_count": 5,
     "metadata": {},
     "output_type": "execute_result"
    }
   ],
   "source": [
    "X_train"
   ]
  },
  {
   "cell_type": "code",
   "execution_count": 6,
   "id": "d979419c",
   "metadata": {},
   "outputs": [
    {
     "data": {
      "text/plain": [
       "3255    0\n",
       "7118    1\n",
       "1621    0\n",
       "5835    1\n",
       "2933    0\n",
       "       ..\n",
       "8880    1\n",
       "8603    1\n",
       "8638    1\n",
       "7529    1\n",
       "9893    1\n",
       "Name: Label, Length: 2000, dtype: int64"
      ]
     },
     "execution_count": 6,
     "metadata": {},
     "output_type": "execute_result"
    }
   ],
   "source": [
    "y_train"
   ]
  },
  {
   "cell_type": "code",
   "execution_count": 7,
   "id": "fe01f0a2",
   "metadata": {},
   "outputs": [
    {
     "data": {
      "text/plain": [
       "LinearRegression()"
      ]
     },
     "execution_count": 7,
     "metadata": {},
     "output_type": "execute_result"
    }
   ],
   "source": [
    "from sklearn import linear_model\n",
    "mymodel = linear_model.LinearRegression()\n",
    "mymodel.fit(X_train,y_train)"
   ]
  },
  {
   "cell_type": "code",
   "execution_count": 8,
   "id": "74dba96a",
   "metadata": {},
   "outputs": [
    {
     "data": {
      "text/plain": [
       "array([0.21842479, 0.23698198, 0.03482552, ..., 0.26740049, 0.37324605,\n",
       "       0.295874  ])"
      ]
     },
     "execution_count": 8,
     "metadata": {},
     "output_type": "execute_result"
    }
   ],
   "source": [
    "mymodel.predict(X_test)"
   ]
  },
  {
   "cell_type": "code",
   "execution_count": 9,
   "id": "6c025520",
   "metadata": {},
   "outputs": [
    {
     "data": {
      "text/plain": [
       "0.41117889129049634"
      ]
     },
     "execution_count": 9,
     "metadata": {},
     "output_type": "execute_result"
    }
   ],
   "source": [
    "mymodel.score(X_test,y_test)"
   ]
  },
  {
   "cell_type": "code",
   "execution_count": 11,
   "id": "d93d342e",
   "metadata": {},
   "outputs": [
    {
     "name": "stdout",
     "output_type": "stream",
     "text": [
      "Cross-Validation Accuracy Scores [0.42203963 0.37696351 0.39430211 0.42000737 0.42933348 0.38587628\n",
      " 0.42781645 0.4432596  0.41960309 0.43948679]\n",
      "0.4158688318756144\n"
     ]
    },
    {
     "data": {
      "text/plain": [
       "17"
      ]
     },
     "execution_count": 11,
     "metadata": {},
     "output_type": "execute_result"
    }
   ],
   "source": [
    "data1 = data\n",
    "feature_df = data[[\"Have_IP\",\"Have_At\",\"URL_Length\",\"URL_Depth\",\"Redirection\",\"https_Domain\",\"TinyURL\",\"Prefix/Suffix\",\"DNS_Record\",\"Web_Traffic\",\"Domain_Age\",\"Domain_End\",\"iFrame\",\"Mouse_Over\",\"Right_Click\",\"Web_Forwards\"]]\n",
    "#convert into numpy nd array\n",
    "# X is independent variable\n",
    "X = np.asarray(feature_df)\n",
    "Y = np.asarray(data[\"Label\"])\n",
    "from sklearn.model_selection  import train_test_split\n",
    "\n",
    "X_train, X_test, y_train,y_test=train_test_split(X,Y, test_size=0.02,random_state=4)\n",
    "from sklearn import linear_model\n",
    "mymodel = linear_model.LinearRegression()\n",
    "mymodel.fit(X_train,y_train)\n",
    "mymodel.predict(X_test)\n",
    "mymodel.score(X_test,y_test)\n",
    "\n",
    "\n",
    "from sklearn.model_selection import cross_val_score\n",
    "\n",
    "scores = cross_val_score(mymodel, X_train, y_train, cv=10)\n",
    "print('Cross-Validation Accuracy Scores', scores)\n",
    "\n",
    "print(scores.mean())\n",
    "\n",
    "X.shape[1]+1\n"
   ]
  },
  {
   "cell_type": "code",
   "execution_count": 14,
   "id": "00c3324a",
   "metadata": {},
   "outputs": [
    {
     "name": "stdout",
     "output_type": "stream",
     "text": [
      "Cross-Validation Accuracy Scores [0.39835991 0.49963016 0.27115874 0.40188712 0.44461014 0.28910924\n",
      " 0.32821045 0.38020788 0.35063584 0.28325904]\n",
      "0.3647068518417719\n"
     ]
    },
    {
     "data": {
      "text/plain": [
       "17"
      ]
     },
     "execution_count": 14,
     "metadata": {},
     "output_type": "execute_result"
    }
   ],
   "source": [
    "data1 = data.sample(frac=0.1)\n",
    "feature_df = data1[[\"Have_IP\",\"Have_At\",\"URL_Length\",\"URL_Depth\",\"Redirection\",\"https_Domain\",\"TinyURL\",\"Prefix/Suffix\",\"DNS_Record\",\"Web_Traffic\",\"Domain_Age\",\"Domain_End\",\"iFrame\",\"Mouse_Over\",\"Right_Click\",\"Web_Forwards\"]]\n",
    "#convert into numpy nd array\n",
    "# X is independent variable\n",
    "X = np.asarray(feature_df)\n",
    "Y = np.asarray(data1[\"Label\"])\n",
    "from sklearn.model_selection  import train_test_split\n",
    "\n",
    "X_train, X_test, y_train,y_test=train_test_split(X,Y, test_size=0.02,random_state=4)\n",
    "from sklearn import linear_model\n",
    "mymodel = linear_model.LinearRegression()\n",
    "mymodel.fit(X_train,y_train)\n",
    "mymodel.predict(X_test)\n",
    "mymodel.score(X_test,y_test)\n",
    "\n",
    "\n",
    "from sklearn.model_selection import cross_val_score\n",
    "\n",
    "scores = cross_val_score(mymodel, X_train, y_train, cv=10)\n",
    "print('Cross-Validation Accuracy Scores', scores)\n",
    "\n",
    "print(scores.mean())\n",
    "\n",
    "X.shape[1]+1\n"
   ]
  },
  {
   "cell_type": "code",
   "execution_count": 15,
   "id": "1e2236d5",
   "metadata": {},
   "outputs": [
    {
     "name": "stdout",
     "output_type": "stream",
     "text": [
      "Cross-Validation Accuracy Scores [0.23248062 0.15877336 0.53925471 0.12504373 0.52958619 0.46151078\n",
      " 0.32371323 0.4126607  0.49709515 0.42651255]\n",
      "0.3706631035772403\n"
     ]
    }
   ],
   "source": [
    "data1 = data.sample(frac=0.05)\n",
    "feature_df = data1[[\"Have_IP\",\"Have_At\",\"URL_Length\",\"URL_Depth\",\"Redirection\",\"https_Domain\",\"TinyURL\",\"Prefix/Suffix\",\"DNS_Record\",\"Web_Traffic\",\"Domain_Age\",\"Domain_End\",\"iFrame\",\"Mouse_Over\",\"Right_Click\",\"Web_Forwards\"]]\n",
    "#convert into numpy nd array\n",
    "# X is independent variable\n",
    "X = np.asarray(feature_df)\n",
    "Y = np.asarray(data1[\"Label\"])\n",
    "from sklearn.model_selection  import train_test_split\n",
    "\n",
    "X_train, X_test, y_train,y_test=train_test_split(X,Y, test_size=0.02,random_state=4)\n",
    "from sklearn import linear_model\n",
    "mymodel = linear_model.LinearRegression()\n",
    "mymodel.fit(X_train,y_train)\n",
    "mymodel.predict(X_test)\n",
    "mymodel.score(X_test,y_test)\n",
    "\n",
    "\n",
    "from sklearn.model_selection import cross_val_score\n",
    "\n",
    "scores = cross_val_score(mymodel, X_train, y_train, cv=10)\n",
    "print('Cross-Validation Accuracy Scores', scores)\n",
    "\n",
    "print(scores.mean())"
   ]
  },
  {
   "cell_type": "code",
   "execution_count": 16,
   "id": "b8da1b80",
   "metadata": {},
   "outputs": [
    {
     "name": "stdout",
     "output_type": "stream",
     "text": [
      "Cross-Validation Accuracy Scores [0.43136156 0.49177256 0.4495148  0.51695103 0.36450824 0.34074209\n",
      " 0.52602544 0.36322395 0.43902168 0.49960775]\n",
      "0.4422729093625345\n"
     ]
    }
   ],
   "source": [
    "data1 = data.sample(frac=0.2)\n",
    "feature_df = data1[[\"Have_IP\",\"Have_At\",\"URL_Length\",\"URL_Depth\",\"Redirection\",\"https_Domain\",\"TinyURL\",\"Prefix/Suffix\",\"DNS_Record\",\"Web_Traffic\",\"Domain_Age\",\"Domain_End\",\"iFrame\",\"Mouse_Over\",\"Right_Click\",\"Web_Forwards\"]]\n",
    "#convert into numpy nd array\n",
    "# X is independent variable\n",
    "X = np.asarray(feature_df)\n",
    "Y = np.asarray(data1[\"Label\"])\n",
    "from sklearn.model_selection  import train_test_split\n",
    "\n",
    "X_train, X_test, y_train,y_test=train_test_split(X,Y, test_size=0.02,random_state=4)\n",
    "from sklearn import linear_model\n",
    "mymodel = linear_model.LinearRegression()\n",
    "mymodel.fit(X_train,y_train)\n",
    "mymodel.predict(X_test)\n",
    "mymodel.score(X_test,y_test)\n",
    "\n",
    "\n",
    "from sklearn.model_selection import cross_val_score\n",
    "\n",
    "scores = cross_val_score(mymodel, X_train, y_train, cv=10)\n",
    "print('Cross-Validation Accuracy Scores', scores)\n",
    "\n",
    "print(scores.mean())"
   ]
  },
  {
   "cell_type": "code",
   "execution_count": 17,
   "id": "8aa30842",
   "metadata": {},
   "outputs": [
    {
     "name": "stdout",
     "output_type": "stream",
     "text": [
      "Cross-Validation Accuracy Scores [0.40757009 0.44050359 0.44986146 0.41219458 0.38199787 0.41671838\n",
      " 0.3796213  0.37584912 0.38108907 0.46177323]\n",
      "0.4107178688237676\n"
     ]
    }
   ],
   "source": [
    "data1 = data.sample(frac=0.5)\n",
    "feature_df = data1[[\"Have_IP\",\"Have_At\",\"URL_Length\",\"URL_Depth\",\"Redirection\",\"https_Domain\",\"TinyURL\",\"Prefix/Suffix\",\"DNS_Record\",\"Web_Traffic\",\"Domain_Age\",\"Domain_End\",\"iFrame\",\"Mouse_Over\",\"Right_Click\",\"Web_Forwards\"]]\n",
    "#convert into numpy nd array\n",
    "# X is independent variable\n",
    "X = np.asarray(feature_df)\n",
    "Y = np.asarray(data1[\"Label\"])\n",
    "from sklearn.model_selection  import train_test_split\n",
    "\n",
    "X_train, X_test, y_train,y_test=train_test_split(X,Y, test_size=0.02,random_state=4)\n",
    "from sklearn import linear_model\n",
    "mymodel = linear_model.LinearRegression()\n",
    "mymodel.fit(X_train,y_train)\n",
    "mymodel.predict(X_test)\n",
    "mymodel.score(X_test,y_test)\n",
    "\n",
    "\n",
    "from sklearn.model_selection import cross_val_score\n",
    "\n",
    "scores = cross_val_score(mymodel, X_train, y_train, cv=10)\n",
    "print('Cross-Validation Accuracy Scores', scores)\n",
    "\n",
    "print(scores.mean())"
   ]
  },
  {
   "cell_type": "code",
   "execution_count": null,
   "id": "b008b28a",
   "metadata": {},
   "outputs": [],
   "source": []
  }
 ],
 "metadata": {
  "kernelspec": {
   "display_name": "Python 3 (ipykernel)",
   "language": "python",
   "name": "python3"
  },
  "language_info": {
   "codemirror_mode": {
    "name": "ipython",
    "version": 3
   },
   "file_extension": ".py",
   "mimetype": "text/x-python",
   "name": "python",
   "nbconvert_exporter": "python",
   "pygments_lexer": "ipython3",
   "version": "3.8.3"
  }
 },
 "nbformat": 4,
 "nbformat_minor": 5
}
